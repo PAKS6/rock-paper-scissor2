{
 "cells": [
  {
   "cell_type": "code",
   "execution_count": 1,
   "id": "5ef7c82e",
   "metadata": {},
   "outputs": [
    {
     "name": "stdout",
     "output_type": "stream",
     "text": [
      "Enter a choice:  rock\n",
      "I_Choose = rock\n",
      "computer choice = paper\n",
      "You lose.\n",
      "do you wish to continue? (y/n): y\n",
      "Enter a choice:  paper\n",
      "I_Choose = paper\n",
      "computer choice = rock\n",
      "You win!\n",
      "do you wish to continue? (y/n): n\n",
      "Game is over\n"
     ]
    }
   ],
   "source": [
    "choices=[\"rock\", \"paper\", \"scissor\"]\n",
    "cont= \"y\"\n",
    "while cont==\"y\":\n",
    "\n",
    "    I_Choose = (input(\"Enter a choice:  \"))\n",
    "    print(f\"I_Choose = {I_Choose}\")\n",
    "\n",
    "    import random as rand\n",
    "    computer_choice = rand.choice(choices)\n",
    "    print(f\"computer choice = {computer_choice}\") \n",
    "    \n",
    "\n",
    "    if I_Choose == computer_choice:\n",
    "        print(\"It's a draw.\") \n",
    "    elif (I_Choose == \"rock\" and computer_choice == \"scissor\"): \n",
    "        print(\"You win!\")\n",
    "    elif (I_Choose == \"scissor\" and computer_choice == \"paper\"):\n",
    "        print(\"You win!\")\n",
    "    elif (I_Choose == \"paper\" and computer_choice == \"rock\"):\n",
    "        print(\"You win!\")\n",
    "    else:\n",
    "        print(\"You lose.\")\n",
    "    \n",
    "    cont=input(\"do you wish to continue? (y/n): \")\n",
    "print(\"Game is over\") "
   ]
  },
  {
   "cell_type": "code",
   "execution_count": null,
   "id": "30437b92",
   "metadata": {},
   "outputs": [],
   "source": []
  },
  {
   "cell_type": "code",
   "execution_count": null,
   "id": "faeeba71",
   "metadata": {},
   "outputs": [],
   "source": []
  }
 ],
 "metadata": {
  "kernelspec": {
   "display_name": "Python 3 (ipykernel)",
   "language": "python",
   "name": "python3"
  },
  "language_info": {
   "codemirror_mode": {
    "name": "ipython",
    "version": 3
   },
   "file_extension": ".py",
   "mimetype": "text/x-python",
   "name": "python",
   "nbconvert_exporter": "python",
   "pygments_lexer": "ipython3",
   "version": "3.9.7"
  }
 },
 "nbformat": 4,
 "nbformat_minor": 5
}
